{
  "cells": [
    {
      "cell_type": "code",
      "execution_count": null,
      "metadata": {
        "collapsed": false
      },
      "outputs": [],
      "source": [
        "%matplotlib inline"
      ]
    },
    {
      "cell_type": "markdown",
      "metadata": {},
      "source": [
        "\n# Postprocessing using PyVista and Matplotlib\nThis example demonstrates the postprocessing capabilities of PyFluent\n(using PyVista and Matplotlib) using a 3D model\nof an exhaust manifold with high temperature flows passing through.\nThe flow through the manifold is turbulent and\ninvolves conjugate heat transfer.\n\nThis example demonstrates postprocessing using pyvista\n\n- Create surfaces for the display of 3D data.\n- Display filled contours of temperature on several surfaces.\n- Display velocity vectors.\n- Plot quantitative results using Matplotlib\n"
      ]
    },
    {
      "cell_type": "code",
      "execution_count": null,
      "metadata": {
        "collapsed": false
      },
      "outputs": [],
      "source": [
        "# sphinx_gallery_thumbnail_number = -3"
      ]
    },
    {
      "cell_type": "code",
      "execution_count": null,
      "metadata": {
        "collapsed": false
      },
      "outputs": [],
      "source": [
        "import ansys.fluent.core as pyfluent\nfrom ansys.fluent.core import examples\n\nfrom ansys.fluent.visualization import set_config\nfrom ansys.fluent.visualization.matplotlib import Plots\nfrom ansys.fluent.visualization.pyvista import Graphics\n\nset_config(blocking=True, set_view_on_display=\"isometric\")"
      ]
    },
    {
      "cell_type": "markdown",
      "metadata": {},
      "source": [
        "First, download the case and data file and start Fluent as a service with\nMeshing mode, double precision, number of processors: 2\n\n"
      ]
    },
    {
      "cell_type": "code",
      "execution_count": null,
      "metadata": {
        "collapsed": false
      },
      "outputs": [],
      "source": [
        "import_case = examples.download_file(\n    filename=\"exhaust_system.cas.h5\", directory=\"pyfluent/exhaust_system\"\n)\n\nimport_data = examples.download_file(\n    filename=\"exhaust_system.dat.h5\", directory=\"pyfluent/exhaust_system\"\n)\n\nsession = pyfluent.launch_fluent(precision=\"double\", processor_count=2)\n\nsession.solver.tui.file.read_case(case_file_name=import_case)\nsession.solver.tui.file.read_data(case_file_name=import_data)"
      ]
    },
    {
      "cell_type": "markdown",
      "metadata": {},
      "source": [
        "Get the graphics object for mesh display\n\n"
      ]
    },
    {
      "cell_type": "code",
      "execution_count": null,
      "metadata": {
        "collapsed": false
      },
      "outputs": [],
      "source": [
        "graphics = Graphics(session=session)"
      ]
    },
    {
      "cell_type": "markdown",
      "metadata": {},
      "source": [
        "Create a graphics object for mesh display\n\n"
      ]
    },
    {
      "cell_type": "code",
      "execution_count": null,
      "metadata": {
        "collapsed": false
      },
      "outputs": [],
      "source": [
        "mesh1 = graphics.Meshes[\"mesh-1\"]"
      ]
    },
    {
      "cell_type": "markdown",
      "metadata": {},
      "source": [
        "Show edges and faces\n\n"
      ]
    },
    {
      "cell_type": "code",
      "execution_count": null,
      "metadata": {
        "collapsed": false
      },
      "outputs": [],
      "source": [
        "mesh1.show_edges = True\nmesh1.show_faces = True"
      ]
    },
    {
      "cell_type": "markdown",
      "metadata": {},
      "source": [
        "Get the surfaces list\n\n"
      ]
    },
    {
      "cell_type": "code",
      "execution_count": null,
      "metadata": {
        "collapsed": false
      },
      "outputs": [],
      "source": [
        "mesh1.surfaces_list = [\n    \"in1\",\n    \"in2\",\n    \"in3\",\n    \"out1\",\n    \"solid_up:1\",\n    \"solid_up:1:830\",\n    \"solid_up:1:830-shadow\",\n]\nmesh1.display(\"window-1\")"
      ]
    },
    {
      "cell_type": "markdown",
      "metadata": {},
      "source": [
        "Disable edges and display again\n\n"
      ]
    },
    {
      "cell_type": "code",
      "execution_count": null,
      "metadata": {
        "collapsed": false
      },
      "outputs": [],
      "source": [
        "mesh1.show_edges = False\nmesh1.display(\"window-2\")"
      ]
    },
    {
      "cell_type": "markdown",
      "metadata": {},
      "source": [
        "Create iso-surface on the outlet plane\n\n"
      ]
    },
    {
      "cell_type": "code",
      "execution_count": null,
      "metadata": {
        "collapsed": false
      },
      "outputs": [],
      "source": [
        "surf_outlet_plane = graphics.Surfaces[\"outlet-plane\"]\nsurf_outlet_plane.surface.type = \"iso-surface\"\niso_surf1 = surf_outlet_plane.surface.iso_surface\niso_surf1.field = \"y-coordinate\"\niso_surf1.iso_value = -0.125017\nsurf_outlet_plane.display(\"window-3\")"
      ]
    },
    {
      "cell_type": "markdown",
      "metadata": {},
      "source": [
        "Create iso-surface on the mid-plane (Issue # 276)\n\n"
      ]
    },
    {
      "cell_type": "code",
      "execution_count": null,
      "metadata": {
        "collapsed": false
      },
      "outputs": [],
      "source": [
        "surf_mid_plane_x = graphics.Surfaces[\"mid-plane-x\"]\nsurf_mid_plane_x.surface.type = \"iso-surface\"\niso_surf2 = surf_mid_plane_x.surface.iso_surface\niso_surf2.field = \"x-coordinate\"\niso_surf2.iso_value = -0.174\nsurf_mid_plane_x.display(\"window-4\")"
      ]
    },
    {
      "cell_type": "markdown",
      "metadata": {},
      "source": [
        "Temperature contour on the mid-plane and the outlet\n\n"
      ]
    },
    {
      "cell_type": "code",
      "execution_count": null,
      "metadata": {
        "collapsed": false
      },
      "outputs": [],
      "source": [
        "temperature_contour = graphics.Contours[\"contour-temperature\"]\ntemperature_contour.field = \"temperature\"\ntemperature_contour.surfaces_list = [\"mid-plane-x\", \"outlet-plane\"]\ntemperature_contour.display(\"window-4\")"
      ]
    },
    {
      "cell_type": "markdown",
      "metadata": {},
      "source": [
        "Contour plot of temperature on the manifold\n\n"
      ]
    },
    {
      "cell_type": "code",
      "execution_count": null,
      "metadata": {
        "collapsed": false
      },
      "outputs": [],
      "source": [
        "temperature_contour_manifold = graphics.Contours[\"contour-temperature-manifold\"]\ntemperature_contour_manifold.field = \"temperature\"\ntemperature_contour_manifold.surfaces_list = [\n    \"in1\",\n    \"in2\",\n    \"in3\",\n    \"out1\",\n    \"solid_up:1\",\n    \"solid_up:1:830\",\n]\ntemperature_contour_manifold.display(\"window-5\")"
      ]
    },
    {
      "cell_type": "markdown",
      "metadata": {},
      "source": [
        "Vector on the mid-plane\nCurrently using outlet-plane since mid-plane is affected by Issue # 276\n\n"
      ]
    },
    {
      "cell_type": "code",
      "execution_count": null,
      "metadata": {
        "collapsed": false
      },
      "outputs": [],
      "source": [
        "velocity_vector = graphics.Vectors[\"velocity-vector\"]\nvelocity_vector.surfaces_list = [\"solid_up:1:830\"]\nvelocity_vector.scale = 2\nvelocity_vector.display(\"window-6\")"
      ]
    },
    {
      "cell_type": "markdown",
      "metadata": {},
      "source": [
        "Commenting out due to issue #290\nStart the Plot Object for the session\n\n"
      ]
    },
    {
      "cell_type": "code",
      "execution_count": null,
      "metadata": {
        "collapsed": false
      },
      "outputs": [],
      "source": [
        "plots_session_1 = Plots(session)"
      ]
    },
    {
      "cell_type": "markdown",
      "metadata": {},
      "source": [
        "Create a default XY-Plot\n\n"
      ]
    },
    {
      "cell_type": "code",
      "execution_count": null,
      "metadata": {
        "collapsed": false
      },
      "outputs": [],
      "source": [
        "plot_1 = plots_session_1.XYPlots[\"plot-1\"]"
      ]
    },
    {
      "cell_type": "markdown",
      "metadata": {},
      "source": [
        "Set the surface on which the plot is plotted and the Y-axis function\n\n"
      ]
    },
    {
      "cell_type": "code",
      "execution_count": null,
      "metadata": {
        "collapsed": false
      },
      "outputs": [],
      "source": [
        "plot_1.surfaces_list = [\"outlet\"]\nplot_1.y_axis_function = \"temperature\""
      ]
    },
    {
      "cell_type": "markdown",
      "metadata": {},
      "source": [
        "Plot the created XY-Plot\n\n"
      ]
    },
    {
      "cell_type": "code",
      "execution_count": null,
      "metadata": {
        "collapsed": false
      },
      "outputs": [],
      "source": [
        "plot_1.plot(\"window-7\")"
      ]
    },
    {
      "cell_type": "markdown",
      "metadata": {},
      "source": [
        "Close Fluent\n\n"
      ]
    },
    {
      "cell_type": "code",
      "execution_count": null,
      "metadata": {
        "collapsed": false
      },
      "outputs": [],
      "source": [
        "session.exit()"
      ]
    }
  ],
  "metadata": {
    "kernelspec": {
      "display_name": "Python 3",
      "language": "python",
      "name": "python3"
    },
    "language_info": {
      "codemirror_mode": {
        "name": "ipython",
        "version": 3
      },
      "file_extension": ".py",
      "mimetype": "text/x-python",
      "name": "python",
      "nbconvert_exporter": "python",
      "pygments_lexer": "ipython3",
      "version": "3.8.12"
    }
  },
  "nbformat": 4,
  "nbformat_minor": 0
}